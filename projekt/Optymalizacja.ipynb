{
 "cells": [
  {
   "cell_type": "code",
   "execution_count": 1,
   "metadata": {},
   "outputs": [],
   "source": [
    "import pandas as pd\n",
    "data = pd.read_csv(\"dane.csv\", delimiter=\";\", names=['From', 'To', 'Date', 'Cost'])"
   ]
  },
  {
   "cell_type": "code",
   "execution_count": 2,
   "metadata": {},
   "outputs": [],
   "source": [
    "# data cleaning\n",
    "data[\"To\"] = data[\"To\"].str.strip()\n",
    "data['year'] = [int(i[0].split(\"-\")[0]) for i in data['Date'].str.split()]\n",
    "data['month'] = [int(i[0].split(\"-\")[1]) for i in data['Date'].str.split()]\n",
    "data['day'] = [int(i[0].split(\"-\")[2]) for i in data['Date'].str.split()]\n",
    "data['hour'] = [int(i[1].split(\":\")[0]) for i in data['Date'].str.split()]\n",
    "data['minute'] = [int(i[1].split(\":\")[1]) for i in data['Date'].str.split()]\n",
    "data['second'] = [int(i[1].split(\":\")[2]) for i in data['Date'].str.split()]\n",
    "data = data.drop([\"Date\"], axis=1)"
   ]
  },
  {
   "cell_type": "code",
   "execution_count": 3,
   "metadata": {},
   "outputs": [],
   "source": [
    "# LabelEncoder -> changes categorical data into numerical\n",
    "from sklearn import preprocessing\n",
    "le = preprocessing.LabelEncoder()\n",
    "labels = data['To'].tolist()\n",
    "labels = labels + data['From'].tolist()\n",
    "labels = list(set(labels))\n",
    "le.fit(labels)\n",
    "data['From_edge'] = le.transform(data['From'])\n",
    "data['To_edge'] = le.transform(data['To'])"
   ]
  },
  {
   "cell_type": "code",
   "execution_count": 4,
   "metadata": {},
   "outputs": [],
   "source": [
    "# data from customer (tak tak powinno byc city... nie chcialem juz zmieniac)\n",
    "max_cost = 300\n",
    "max_cities = 3\n",
    "time_in_citie_in_days = 2\n",
    "start_citie = \"KRK\"\n",
    "year = 2019\n",
    "month = 1\n",
    "day = 10"
   ]
  },
  {
   "cell_type": "code",
   "execution_count": 5,
   "metadata": {},
   "outputs": [
    {
     "data": {
      "text/html": [
       "<div>\n",
       "<style scoped>\n",
       "    .dataframe tbody tr th:only-of-type {\n",
       "        vertical-align: middle;\n",
       "    }\n",
       "\n",
       "    .dataframe tbody tr th {\n",
       "        vertical-align: top;\n",
       "    }\n",
       "\n",
       "    .dataframe thead th {\n",
       "        text-align: right;\n",
       "    }\n",
       "</style>\n",
       "<table border=\"1\" class=\"dataframe\">\n",
       "  <thead>\n",
       "    <tr style=\"text-align: right;\">\n",
       "      <th></th>\n",
       "      <th>From</th>\n",
       "      <th>To</th>\n",
       "      <th>Cost</th>\n",
       "      <th>year</th>\n",
       "      <th>month</th>\n",
       "      <th>day</th>\n",
       "      <th>hour</th>\n",
       "      <th>minute</th>\n",
       "      <th>second</th>\n",
       "      <th>From_edge</th>\n",
       "      <th>To_edge</th>\n",
       "    </tr>\n",
       "  </thead>\n",
       "  <tbody>\n",
       "    <tr>\n",
       "      <th>0</th>\n",
       "      <td>KBP</td>\n",
       "      <td>WRO</td>\n",
       "      <td>36</td>\n",
       "      <td>2019</td>\n",
       "      <td>1</td>\n",
       "      <td>10</td>\n",
       "      <td>16</td>\n",
       "      <td>10</td>\n",
       "      <td>0</td>\n",
       "      <td>175</td>\n",
       "      <td>390</td>\n",
       "    </tr>\n",
       "    <tr>\n",
       "      <th>1</th>\n",
       "      <td>KBP</td>\n",
       "      <td>VNO</td>\n",
       "      <td>38</td>\n",
       "      <td>2019</td>\n",
       "      <td>1</td>\n",
       "      <td>10</td>\n",
       "      <td>10</td>\n",
       "      <td>25</td>\n",
       "      <td>0</td>\n",
       "      <td>175</td>\n",
       "      <td>384</td>\n",
       "    </tr>\n",
       "    <tr>\n",
       "      <th>2</th>\n",
       "      <td>KBP</td>\n",
       "      <td>VIN</td>\n",
       "      <td>41</td>\n",
       "      <td>2019</td>\n",
       "      <td>1</td>\n",
       "      <td>10</td>\n",
       "      <td>21</td>\n",
       "      <td>25</td>\n",
       "      <td>0</td>\n",
       "      <td>175</td>\n",
       "      <td>379</td>\n",
       "    </tr>\n",
       "    <tr>\n",
       "      <th>3</th>\n",
       "      <td>KBP</td>\n",
       "      <td>KRK</td>\n",
       "      <td>41</td>\n",
       "      <td>2019</td>\n",
       "      <td>1</td>\n",
       "      <td>10</td>\n",
       "      <td>21</td>\n",
       "      <td>40</td>\n",
       "      <td>0</td>\n",
       "      <td>175</td>\n",
       "      <td>186</td>\n",
       "    </tr>\n",
       "    <tr>\n",
       "      <th>4</th>\n",
       "      <td>KBP</td>\n",
       "      <td>CPH</td>\n",
       "      <td>42</td>\n",
       "      <td>2019</td>\n",
       "      <td>1</td>\n",
       "      <td>10</td>\n",
       "      <td>21</td>\n",
       "      <td>50</td>\n",
       "      <td>0</td>\n",
       "      <td>175</td>\n",
       "      <td>78</td>\n",
       "    </tr>\n",
       "  </tbody>\n",
       "</table>\n",
       "</div>"
      ],
      "text/plain": [
       "  From   To  Cost  year  month  day  hour  minute  second  From_edge  To_edge\n",
       "0  KBP  WRO    36  2019      1   10    16      10       0        175      390\n",
       "1  KBP  VNO    38  2019      1   10    10      25       0        175      384\n",
       "2  KBP  VIN    41  2019      1   10    21      25       0        175      379\n",
       "3  KBP  KRK    41  2019      1   10    21      40       0        175      186\n",
       "4  KBP  CPH    42  2019      1   10    21      50       0        175       78"
      ]
     },
     "execution_count": 5,
     "metadata": {},
     "output_type": "execute_result"
    }
   ],
   "source": [
    "data.head()"
   ]
  },
  {
   "cell_type": "code",
   "execution_count": 6,
   "metadata": {},
   "outputs": [],
   "source": [
    "# create dataframe only with start city and all the connections from it\n",
    "stage_1 = data.loc[(data['From'] == 'KRK') & (data['year'] == year) & (data['month'] == month) & (data['day'] == day) & (data['Cost'] <= max_cost)]"
   ]
  },
  {
   "cell_type": "code",
   "execution_count": 7,
   "metadata": {
    "scrolled": true
   },
   "outputs": [],
   "source": [
    "# create rest dataframes (with transit cities)\n",
    "stages = [stage_1]\n",
    "for stage in range(max_cities-1):\n",
    "    day = day+time_in_citie_in_days\n",
    "    stages.append(data.loc[(data['From'].isin(stages[-1]['To'].values)) & (data['To'] != start_citie) & (data['year'] == year) & (data['month'] == month) & (data['day'] == day) & (data['Cost'] <= max_cost)])\n",
    "stages.append(data.loc[(data['From'].isin(stages[-1]['To'].values)) & (data['To'] == start_citie) & (data['year'] == year) & (data['month'] == month) & (data['day'] == day+time_in_citie_in_days) & (data['Cost'] <= max_cost)])"
   ]
  },
  {
   "cell_type": "code",
   "execution_count": 8,
   "metadata": {},
   "outputs": [
    {
     "name": "stderr",
     "output_type": "stream",
     "text": [
      "/home/amadeusz/anaconda3/envs/py35/lib/python3.5/site-packages/ipykernel_launcher.py:14: SettingWithCopyWarning: \n",
      "A value is trying to be set on a copy of a slice from a DataFrame.\n",
      "Try using .loc[row_indexer,col_indexer] = value instead\n",
      "\n",
      "See the caveats in the documentation: http://pandas.pydata.org/pandas-docs/stable/indexing.html#indexing-view-versus-copy\n",
      "  \n",
      "/home/amadeusz/anaconda3/envs/py35/lib/python3.5/site-packages/ipykernel_launcher.py:15: SettingWithCopyWarning: \n",
      "A value is trying to be set on a copy of a slice from a DataFrame.\n",
      "Try using .loc[row_indexer,col_indexer] = value instead\n",
      "\n",
      "See the caveats in the documentation: http://pandas.pydata.org/pandas-docs/stable/indexing.html#indexing-view-versus-copy\n",
      "  from ipykernel import kernelapp as app\n",
      "/home/amadeusz/anaconda3/envs/py35/lib/python3.5/site-packages/ipykernel_launcher.py:16: SettingWithCopyWarning: \n",
      "A value is trying to be set on a copy of a slice from a DataFrame.\n",
      "Try using .loc[row_indexer,col_indexer] = value instead\n",
      "\n",
      "See the caveats in the documentation: http://pandas.pydata.org/pandas-docs/stable/indexing.html#indexing-view-versus-copy\n",
      "  app.launch_new_instance()\n",
      "/home/amadeusz/anaconda3/envs/py35/lib/python3.5/site-packages/ipykernel_launcher.py:7: SettingWithCopyWarning: \n",
      "A value is trying to be set on a copy of a slice from a DataFrame.\n",
      "Try using .loc[row_indexer,col_indexer] = value instead\n",
      "\n",
      "See the caveats in the documentation: http://pandas.pydata.org/pandas-docs/stable/indexing.html#indexing-view-versus-copy\n",
      "  import sys\n",
      "/home/amadeusz/anaconda3/envs/py35/lib/python3.5/site-packages/ipykernel_launcher.py:8: SettingWithCopyWarning: \n",
      "A value is trying to be set on a copy of a slice from a DataFrame.\n",
      "Try using .loc[row_indexer,col_indexer] = value instead\n",
      "\n",
      "See the caveats in the documentation: http://pandas.pydata.org/pandas-docs/stable/indexing.html#indexing-view-versus-copy\n",
      "  \n",
      "/home/amadeusz/anaconda3/envs/py35/lib/python3.5/site-packages/ipykernel_launcher.py:9: SettingWithCopyWarning: \n",
      "A value is trying to be set on a copy of a slice from a DataFrame.\n",
      "Try using .loc[row_indexer,col_indexer] = value instead\n",
      "\n",
      "See the caveats in the documentation: http://pandas.pydata.org/pandas-docs/stable/indexing.html#indexing-view-versus-copy\n",
      "  if __name__ == '__main__':\n",
      "/home/amadeusz/anaconda3/envs/py35/lib/python3.5/site-packages/ipykernel_launcher.py:10: SettingWithCopyWarning: \n",
      "A value is trying to be set on a copy of a slice from a DataFrame.\n",
      "Try using .loc[row_indexer,col_indexer] = value instead\n",
      "\n",
      "See the caveats in the documentation: http://pandas.pydata.org/pandas-docs/stable/indexing.html#indexing-view-versus-copy\n",
      "  # Remove the CWD from sys.path while we load stuff.\n"
     ]
    }
   ],
   "source": [
    "# make correction to cities numbers (ogolnie powinno byc bardziej From_vertex, To_vertex)\n",
    "import numpy as np\n",
    "tmp = 0\n",
    "err = 0\n",
    "for i, stage in enumerate(stages):\n",
    "    if i != 0:\n",
    "        err = tmp - np.max(stages[i-1]['From_edge'])\n",
    "        stage['From_edge'] = le.transform(stage['From'].tolist())\n",
    "        stage['From_edge'] += (np.max(stages[i-1]['From_edge']) + 1 + err)\n",
    "        stage['To_edge'] = le.transform(stage['To'].tolist())\n",
    "        stage['To_edge'] += (np.max(stages[i-1]['To_edge']) + 1)\n",
    "        tmp = np.max(stages[i-1]['To_edge'])\n",
    "        stages[i] = stage\n",
    "    else:\n",
    "        stage['From_edge'] = 0\n",
    "        stage['To_edge'] = le.transform(stage['To'].tolist())\n",
    "        stage['To_edge'] += 1\n",
    "        stages[i] = stage"
   ]
  },
  {
   "cell_type": "code",
   "execution_count": 9,
   "metadata": {},
   "outputs": [],
   "source": [
    "# set index numbers as link numbers\n",
    "length = 0\n",
    "for i, stage in enumerate(stages):\n",
    "    if i == 0:\n",
    "        stage.index = stage.reset_index().drop(['index'], axis=1).index + 1\n",
    "        length = len(stage)\n",
    "    else:\n",
    "        stage.index = stage.reset_index().drop(['index'], axis=1).index + 1 + length\n",
    "        length = length + len(stage)"
   ]
  },
  {
   "cell_type": "markdown",
   "metadata": {},
   "source": [
    "Save output as data.dat file"
   ]
  },
  {
   "cell_type": "code",
   "execution_count": 10,
   "metadata": {},
   "outputs": [],
   "source": [
    "with open(\"data.dat\", \"a\") as f:\n",
    "    f.write(\"\"\"\n",
    "data;\n",
    "\n",
    "param V_count := {V_count};\n",
    "param E_count := {E_count};\n",
    "param D_count := {D_count};\n",
    "\n",
    "param : h  s t :=\n",
    " 1      1 {s} {t}\n",
    ";\n",
    "        \"\"\".format(V_count=stages[-1]['To_edge'].iloc[0], \n",
    "                   E_count=stages[-1].tail(1).index.values[0], \n",
    "                   D_count=1, \n",
    "                   s=0, \n",
    "                   t=stages[-1]['To_edge'].iloc[0]))"
   ]
  },
  {
   "cell_type": "code",
   "execution_count": 11,
   "metadata": {},
   "outputs": [],
   "source": [
    "with open(\"data.dat\", \"a\") as f:\n",
    "     f.write(\"\"\"\n",
    "param : A :=\n",
    "\"\"\")"
   ]
  },
  {
   "cell_type": "code",
   "execution_count": 12,
   "metadata": {},
   "outputs": [],
   "source": [
    "with open(\"data.dat\", \"a\") as f:\n",
    "    for stage in stages:\n",
    "        for val, index in zip(stage.values, stage.index.values):\n",
    "            f.write(\"\"\"\n",
    " {link_number},{to_edge_number}    1\n",
    "\"\"\".format(link_number=index, \n",
    "           to_edge_number=val[-2]))"
   ]
  },
  {
   "cell_type": "code",
   "execution_count": 13,
   "metadata": {},
   "outputs": [],
   "source": [
    "with open(\"data.dat\", \"a\") as f:\n",
    "     f.write(\"\"\"\n",
    ";\n",
    "\"\"\")"
   ]
  },
  {
   "cell_type": "code",
   "execution_count": 14,
   "metadata": {},
   "outputs": [],
   "source": [
    "with open(\"data.dat\", \"a\") as f:\n",
    "     f.write(\"\"\"\n",
    "param : B :=\n",
    "\"\"\")"
   ]
  },
  {
   "cell_type": "code",
   "execution_count": 15,
   "metadata": {},
   "outputs": [],
   "source": [
    "with open(\"data.dat\", \"a\") as f:\n",
    "    for stage in stages:\n",
    "        for val, index in zip(stage.values, stage.index.values):\n",
    "            f.write(\"\"\"\n",
    " {link_number},{to_edge_number}    1\n",
    "\"\"\".format(link_number=index, \n",
    "           to_edge_number=val[-1]))"
   ]
  },
  {
   "cell_type": "code",
   "execution_count": 16,
   "metadata": {},
   "outputs": [],
   "source": [
    "with open(\"data.dat\", \"a\") as f:\n",
    "     f.write(\"\"\"\n",
    ";\n",
    "\"\"\")"
   ]
  },
  {
   "cell_type": "code",
   "execution_count": 17,
   "metadata": {},
   "outputs": [],
   "source": [
    "with open(\"data.dat\", \"a\") as f:\n",
    "     f.write(\"\"\"\n",
    "param : KSI :=\n",
    "\"\"\")"
   ]
  },
  {
   "cell_type": "code",
   "execution_count": 18,
   "metadata": {},
   "outputs": [],
   "source": [
    "with open(\"data.dat\", \"a\") as f:\n",
    "    for stage in stages:\n",
    "        for val, index in zip(stage.values, stage.index.values):\n",
    "            f.write(\"\"\"\n",
    " {link_number}    {cost}\n",
    "\"\"\".format(link_number=index, \n",
    "           cost=val[2]))"
   ]
  },
  {
   "cell_type": "code",
   "execution_count": 19,
   "metadata": {},
   "outputs": [],
   "source": [
    "with open(\"data.dat\", \"a\") as f:\n",
    "     f.write(\"\"\"\n",
    ";\n",
    "\"\"\")"
   ]
  },
  {
   "cell_type": "code",
   "execution_count": 20,
   "metadata": {},
   "outputs": [],
   "source": [
    "with open(\"data.dat\", \"a\") as f:\n",
    "     f.write(\"\"\"\n",
    "end;\n",
    "\"\"\")"
   ]
  },
  {
   "cell_type": "code",
   "execution_count": 21,
   "metadata": {},
   "outputs": [
    {
     "data": {
      "text/plain": [
       "From          KRK\n",
       "To            SXF\n",
       "Cost           11\n",
       "year         2019\n",
       "month           1\n",
       "day            10\n",
       "hour            9\n",
       "minute         40\n",
       "second          0\n",
       "From_edge       0\n",
       "To_edge       338\n",
       "Name: 2, dtype: object"
      ]
     },
     "execution_count": 21,
     "metadata": {},
     "output_type": "execute_result"
    }
   ],
   "source": [
    "stages[0].loc[2]"
   ]
  },
  {
   "cell_type": "code",
   "execution_count": 22,
   "metadata": {},
   "outputs": [
    {
     "data": {
      "text/plain": [
       "From          SXF\n",
       "To            VNO\n",
       "Cost           15\n",
       "year         2019\n",
       "month           1\n",
       "day            12\n",
       "hour           14\n",
       "minute         35\n",
       "second          0\n",
       "From_edge     338\n",
       "To_edge       774\n",
       "Name: 534, dtype: object"
      ]
     },
     "execution_count": 22,
     "metadata": {},
     "output_type": "execute_result"
    }
   ],
   "source": [
    "stages[1].loc[534]"
   ]
  },
  {
   "cell_type": "code",
   "execution_count": 23,
   "metadata": {},
   "outputs": [
    {
     "data": {
      "text/plain": [
       "From          VNO\n",
       "To            NYO\n",
       "Cost           12\n",
       "year         2019\n",
       "month           1\n",
       "day            14\n",
       "hour            7\n",
       "minute          5\n",
       "second          0\n",
       "From_edge     774\n",
       "To_edge      1046\n",
       "Name: 2913, dtype: object"
      ]
     },
     "execution_count": 23,
     "metadata": {},
     "output_type": "execute_result"
    }
   ],
   "source": [
    "stages[2].loc[2913]"
   ]
  },
  {
   "cell_type": "code",
   "execution_count": 24,
   "metadata": {},
   "outputs": [
    {
     "data": {
      "text/plain": [
       "From          NYO\n",
       "To            KRK\n",
       "Cost           11\n",
       "year         2019\n",
       "month           1\n",
       "day            16\n",
       "hour            9\n",
       "minute          5\n",
       "second          0\n",
       "From_edge    1046\n",
       "To_edge      1371\n",
       "Name: 3183, dtype: object"
      ]
     },
     "execution_count": 24,
     "metadata": {},
     "output_type": "execute_result"
    }
   ],
   "source": [
    "stages[3].loc[3183]"
   ]
  },
  {
   "cell_type": "code",
   "execution_count": null,
   "metadata": {},
   "outputs": [],
   "source": []
  }
 ],
 "metadata": {
  "kernelspec": {
   "display_name": "Python 3",
   "language": "python",
   "name": "python3"
  },
  "language_info": {
   "codemirror_mode": {
    "name": "ipython",
    "version": 3
   },
   "file_extension": ".py",
   "mimetype": "text/x-python",
   "name": "python",
   "nbconvert_exporter": "python",
   "pygments_lexer": "ipython3",
   "version": "3.5.5"
  }
 },
 "nbformat": 4,
 "nbformat_minor": 2
}
