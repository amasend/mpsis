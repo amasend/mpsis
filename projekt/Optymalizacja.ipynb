{
 "cells": [
  {
   "cell_type": "code",
   "execution_count": 1,
   "metadata": {},
   "outputs": [],
   "source": [
    "import pandas as pd\n",
    "data = pd.read_csv(\"dane.csv\", delimiter=\";\", names=['From', 'To', 'Date', 'Cost'])"
   ]
  },
  {
   "cell_type": "code",
   "execution_count": 2,
   "metadata": {},
   "outputs": [],
   "source": [
    "# data cleaning\n",
    "data[\"To\"] = data[\"To\"].str.strip()\n",
    "data['year'] = [int(i[0].split(\"-\")[0]) for i in data['Date'].str.split()]\n",
    "data['month'] = [int(i[0].split(\"-\")[1]) for i in data['Date'].str.split()]\n",
    "data['day'] = [int(i[0].split(\"-\")[2]) for i in data['Date'].str.split()]\n",
    "data['hour'] = [int(i[1].split(\":\")[0]) for i in data['Date'].str.split()]\n",
    "data['minute'] = [int(i[1].split(\":\")[1]) for i in data['Date'].str.split()]\n",
    "data['second'] = [int(i[1].split(\":\")[2]) for i in data['Date'].str.split()]\n",
    "data = data.drop([\"Date\"], axis=1)"
   ]
  },
  {
   "cell_type": "code",
   "execution_count": 3,
   "metadata": {},
   "outputs": [],
   "source": [
    "# LabelEncoder -> changes categorical data into numerical\n",
    "from sklearn import preprocessing\n",
    "le = preprocessing.LabelEncoder()\n",
    "labels = data['To'].tolist()\n",
    "labels = labels + data['From'].tolist()\n",
    "labels = list(set(labels))\n",
    "le.fit(labels)\n",
    "data['From_edge'] = le.transform(data['From'])\n",
    "data['To_edge'] = le.transform(data['To'])"
   ]
  },
  {
   "cell_type": "code",
   "execution_count": 21,
   "metadata": {},
   "outputs": [],
   "source": [
    "# data from customer (tak tak powinno byc city... nie chcialem juz zmieniac)\n",
    "max_cost = 300\n",
    "max_cities = 5\n",
    "time_in_citie_in_days = 2\n",
    "start_citie = \"KRK\"\n",
    "year = 2019\n",
    "month = 1\n",
    "day = 10"
   ]
  },
  {
   "cell_type": "code",
   "execution_count": 5,
   "metadata": {},
   "outputs": [],
   "source": [
    "data['route_id'] = data.index"
   ]
  },
  {
   "cell_type": "code",
   "execution_count": 6,
   "metadata": {
    "scrolled": true
   },
   "outputs": [],
   "source": [
    "# add route_id\n",
    "for i, z in enumerate(list(set((data['From'] + data['To']).tolist()))):\n",
    "    data.loc[(data['From'] == z[:3]) & (data['To'] == z[3:]), ['route_id']] = i"
   ]
  },
  {
   "cell_type": "code",
   "execution_count": 7,
   "metadata": {},
   "outputs": [
    {
     "data": {
      "text/html": [
       "<div>\n",
       "<style scoped>\n",
       "    .dataframe tbody tr th:only-of-type {\n",
       "        vertical-align: middle;\n",
       "    }\n",
       "\n",
       "    .dataframe tbody tr th {\n",
       "        vertical-align: top;\n",
       "    }\n",
       "\n",
       "    .dataframe thead th {\n",
       "        text-align: right;\n",
       "    }\n",
       "</style>\n",
       "<table border=\"1\" class=\"dataframe\">\n",
       "  <thead>\n",
       "    <tr style=\"text-align: right;\">\n",
       "      <th></th>\n",
       "      <th>From</th>\n",
       "      <th>To</th>\n",
       "      <th>Cost</th>\n",
       "      <th>year</th>\n",
       "      <th>month</th>\n",
       "      <th>day</th>\n",
       "      <th>hour</th>\n",
       "      <th>minute</th>\n",
       "      <th>second</th>\n",
       "      <th>From_edge</th>\n",
       "      <th>To_edge</th>\n",
       "      <th>route_id</th>\n",
       "    </tr>\n",
       "  </thead>\n",
       "  <tbody>\n",
       "    <tr>\n",
       "      <th>0</th>\n",
       "      <td>KBP</td>\n",
       "      <td>WRO</td>\n",
       "      <td>36</td>\n",
       "      <td>2019</td>\n",
       "      <td>1</td>\n",
       "      <td>10</td>\n",
       "      <td>16</td>\n",
       "      <td>10</td>\n",
       "      <td>0</td>\n",
       "      <td>175</td>\n",
       "      <td>390</td>\n",
       "      <td>3727</td>\n",
       "    </tr>\n",
       "    <tr>\n",
       "      <th>1</th>\n",
       "      <td>KBP</td>\n",
       "      <td>VNO</td>\n",
       "      <td>38</td>\n",
       "      <td>2019</td>\n",
       "      <td>1</td>\n",
       "      <td>10</td>\n",
       "      <td>10</td>\n",
       "      <td>25</td>\n",
       "      <td>0</td>\n",
       "      <td>175</td>\n",
       "      <td>384</td>\n",
       "      <td>2798</td>\n",
       "    </tr>\n",
       "    <tr>\n",
       "      <th>2</th>\n",
       "      <td>KBP</td>\n",
       "      <td>VIN</td>\n",
       "      <td>41</td>\n",
       "      <td>2019</td>\n",
       "      <td>1</td>\n",
       "      <td>10</td>\n",
       "      <td>21</td>\n",
       "      <td>25</td>\n",
       "      <td>0</td>\n",
       "      <td>175</td>\n",
       "      <td>379</td>\n",
       "      <td>555</td>\n",
       "    </tr>\n",
       "    <tr>\n",
       "      <th>3</th>\n",
       "      <td>KBP</td>\n",
       "      <td>KRK</td>\n",
       "      <td>41</td>\n",
       "      <td>2019</td>\n",
       "      <td>1</td>\n",
       "      <td>10</td>\n",
       "      <td>21</td>\n",
       "      <td>40</td>\n",
       "      <td>0</td>\n",
       "      <td>175</td>\n",
       "      <td>186</td>\n",
       "      <td>753</td>\n",
       "    </tr>\n",
       "    <tr>\n",
       "      <th>4</th>\n",
       "      <td>KBP</td>\n",
       "      <td>CPH</td>\n",
       "      <td>42</td>\n",
       "      <td>2019</td>\n",
       "      <td>1</td>\n",
       "      <td>10</td>\n",
       "      <td>21</td>\n",
       "      <td>50</td>\n",
       "      <td>0</td>\n",
       "      <td>175</td>\n",
       "      <td>78</td>\n",
       "      <td>2563</td>\n",
       "    </tr>\n",
       "  </tbody>\n",
       "</table>\n",
       "</div>"
      ],
      "text/plain": [
       "  From   To  Cost  year  month  day  hour  minute  second  From_edge  To_edge  \\\n",
       "0  KBP  WRO    36  2019      1   10    16      10       0        175      390   \n",
       "1  KBP  VNO    38  2019      1   10    10      25       0        175      384   \n",
       "2  KBP  VIN    41  2019      1   10    21      25       0        175      379   \n",
       "3  KBP  KRK    41  2019      1   10    21      40       0        175      186   \n",
       "4  KBP  CPH    42  2019      1   10    21      50       0        175       78   \n",
       "\n",
       "   route_id  \n",
       "0      3727  \n",
       "1      2798  \n",
       "2       555  \n",
       "3       753  \n",
       "4      2563  "
      ]
     },
     "execution_count": 7,
     "metadata": {},
     "output_type": "execute_result"
    }
   ],
   "source": [
    "data.head()"
   ]
  },
  {
   "cell_type": "code",
   "execution_count": 8,
   "metadata": {},
   "outputs": [],
   "source": [
    "# create dataframe only with start city and all the connections from it\n",
    "stage_1 = data.loc[(data['From'] == 'KRK') & (data['year'] == year) & (data['month'] == month) & (data['day'] == day) & (data['Cost'] <= max_cost)]"
   ]
  },
  {
   "cell_type": "code",
   "execution_count": 22,
   "metadata": {
    "scrolled": true
   },
   "outputs": [],
   "source": [
    "# create rest dataframes (with transit cities)\n",
    "stages = [stage_1]\n",
    "for stage in range(max_cities-1):\n",
    "    day = day+time_in_citie_in_days\n",
    "    stages.append(data.loc[(data['From'].isin(stages[-1]['To'].values)) & ~(data['route_id'].isin(stages[-1]['route_id'].values)) & (data['To'] != start_citie) & (data['year'] == year) & (data['month'] == month) & (data['day'] == day) & (data['Cost'] <= max_cost)])\n",
    "    \n",
    "    for i in range(len(stages)-1):\n",
    "        stages[-1] = stages[-1].loc[(~stages[-1]['route_id'].isin(stages[i]['route_id'].values))]\n",
    "stages.append(data.loc[(data['From'].isin(stages[-1]['To'].values)) & (data['To'] == start_citie) & (data['year'] == year) & (data['month'] == month) & (data['day'] == day+time_in_citie_in_days) & (data['Cost'] <= max_cost)])"
   ]
  },
  {
   "cell_type": "code",
   "execution_count": 23,
   "metadata": {},
   "outputs": [
    {
     "name": "stdout",
     "output_type": "stream",
     "text": [
      "(25, 12)\n",
      "(750, 12)\n",
      "(1895, 12)\n",
      "(601, 12)\n",
      "(235, 12)\n",
      "(20, 12)\n"
     ]
    }
   ],
   "source": [
    "for i in stages:\n",
    "    print(i.shape)"
   ]
  },
  {
   "cell_type": "code",
   "execution_count": 24,
   "metadata": {},
   "outputs": [
    {
     "name": "stderr",
     "output_type": "stream",
     "text": [
      "/home/amadeusz/anaconda3/envs/py35/lib/python3.5/site-packages/ipykernel_launcher.py:15: SettingWithCopyWarning: \n",
      "A value is trying to be set on a copy of a slice from a DataFrame.\n",
      "Try using .loc[row_indexer,col_indexer] = value instead\n",
      "\n",
      "See the caveats in the documentation: http://pandas.pydata.org/pandas-docs/stable/indexing.html#indexing-view-versus-copy\n",
      "  from ipykernel import kernelapp as app\n",
      "/home/amadeusz/anaconda3/envs/py35/lib/python3.5/site-packages/ipykernel_launcher.py:16: SettingWithCopyWarning: \n",
      "A value is trying to be set on a copy of a slice from a DataFrame.\n",
      "Try using .loc[row_indexer,col_indexer] = value instead\n",
      "\n",
      "See the caveats in the documentation: http://pandas.pydata.org/pandas-docs/stable/indexing.html#indexing-view-versus-copy\n",
      "  app.launch_new_instance()\n",
      "/home/amadeusz/anaconda3/envs/py35/lib/python3.5/site-packages/ipykernel_launcher.py:17: SettingWithCopyWarning: \n",
      "A value is trying to be set on a copy of a slice from a DataFrame.\n",
      "Try using .loc[row_indexer,col_indexer] = value instead\n",
      "\n",
      "See the caveats in the documentation: http://pandas.pydata.org/pandas-docs/stable/indexing.html#indexing-view-versus-copy\n",
      "/home/amadeusz/anaconda3/envs/py35/lib/python3.5/site-packages/ipykernel_launcher.py:8: SettingWithCopyWarning: \n",
      "A value is trying to be set on a copy of a slice from a DataFrame.\n",
      "Try using .loc[row_indexer,col_indexer] = value instead\n",
      "\n",
      "See the caveats in the documentation: http://pandas.pydata.org/pandas-docs/stable/indexing.html#indexing-view-versus-copy\n",
      "  \n",
      "/home/amadeusz/anaconda3/envs/py35/lib/python3.5/site-packages/ipykernel_launcher.py:9: SettingWithCopyWarning: \n",
      "A value is trying to be set on a copy of a slice from a DataFrame.\n",
      "Try using .loc[row_indexer,col_indexer] = value instead\n",
      "\n",
      "See the caveats in the documentation: http://pandas.pydata.org/pandas-docs/stable/indexing.html#indexing-view-versus-copy\n",
      "  if __name__ == '__main__':\n",
      "/home/amadeusz/anaconda3/envs/py35/lib/python3.5/site-packages/ipykernel_launcher.py:10: SettingWithCopyWarning: \n",
      "A value is trying to be set on a copy of a slice from a DataFrame.\n",
      "Try using .loc[row_indexer,col_indexer] = value instead\n",
      "\n",
      "See the caveats in the documentation: http://pandas.pydata.org/pandas-docs/stable/indexing.html#indexing-view-versus-copy\n",
      "  # Remove the CWD from sys.path while we load stuff.\n",
      "/home/amadeusz/anaconda3/envs/py35/lib/python3.5/site-packages/ipykernel_launcher.py:11: SettingWithCopyWarning: \n",
      "A value is trying to be set on a copy of a slice from a DataFrame.\n",
      "Try using .loc[row_indexer,col_indexer] = value instead\n",
      "\n",
      "See the caveats in the documentation: http://pandas.pydata.org/pandas-docs/stable/indexing.html#indexing-view-versus-copy\n",
      "  # This is added back by InteractiveShellApp.init_path()\n"
     ]
    }
   ],
   "source": [
    "# make correction to cities numbers (ogolnie powinno byc bardziej From_vertex, To_vertex)\n",
    "import numpy as np\n",
    "tmp = 0\n",
    "err = 0\n",
    "for i, stage in enumerate(stages):\n",
    "    if i != 0:\n",
    "        err = tmp - np.max(stages[i-1]['From_edge'])\n",
    "        stage['From_edge'] = le.transform(stage['From'].tolist())\n",
    "        stage['From_edge'] += (np.max(stages[i-1]['From_edge']) + 1 + err)\n",
    "        stage['To_edge'] = le.transform(stage['To'].tolist())\n",
    "        stage['To_edge'] += (np.max(stages[i-1]['To_edge']) + 1)\n",
    "        tmp = np.max(stages[i-1]['To_edge'])\n",
    "        stages[i] = stage\n",
    "    else:\n",
    "        stage['From_edge'] = 0\n",
    "        stage['To_edge'] = le.transform(stage['To'].tolist())\n",
    "        stage['To_edge'] += 1\n",
    "        stages[i] = stage"
   ]
  },
  {
   "cell_type": "code",
   "execution_count": 25,
   "metadata": {},
   "outputs": [],
   "source": [
    "# set index numbers as link numbers\n",
    "length = 0\n",
    "for i, stage in enumerate(stages):\n",
    "    if i == 0:\n",
    "        stage.index = stage.reset_index().drop(['index'], axis=1).index + 1\n",
    "        length = len(stage)\n",
    "    else:\n",
    "        stage.index = stage.reset_index().drop(['index'], axis=1).index + 1 + length\n",
    "        length = length + len(stage)"
   ]
  },
  {
   "cell_type": "code",
   "execution_count": 26,
   "metadata": {},
   "outputs": [
    {
     "data": {
      "text/html": [
       "<div>\n",
       "<style scoped>\n",
       "    .dataframe tbody tr th:only-of-type {\n",
       "        vertical-align: middle;\n",
       "    }\n",
       "\n",
       "    .dataframe tbody tr th {\n",
       "        vertical-align: top;\n",
       "    }\n",
       "\n",
       "    .dataframe thead th {\n",
       "        text-align: right;\n",
       "    }\n",
       "</style>\n",
       "<table border=\"1\" class=\"dataframe\">\n",
       "  <thead>\n",
       "    <tr style=\"text-align: right;\">\n",
       "      <th></th>\n",
       "      <th>From</th>\n",
       "      <th>To</th>\n",
       "      <th>Cost</th>\n",
       "      <th>year</th>\n",
       "      <th>month</th>\n",
       "      <th>day</th>\n",
       "      <th>hour</th>\n",
       "      <th>minute</th>\n",
       "      <th>second</th>\n",
       "      <th>From_edge</th>\n",
       "      <th>To_edge</th>\n",
       "      <th>route_id</th>\n",
       "    </tr>\n",
       "  </thead>\n",
       "  <tbody>\n",
       "    <tr>\n",
       "      <th>3507</th>\n",
       "      <td>HEL</td>\n",
       "      <td>KRK</td>\n",
       "      <td>54</td>\n",
       "      <td>2019</td>\n",
       "      <td>1</td>\n",
       "      <td>20</td>\n",
       "      <td>16</td>\n",
       "      <td>10</td>\n",
       "      <td>0</td>\n",
       "      <td>1727</td>\n",
       "      <td>2164</td>\n",
       "      <td>676</td>\n",
       "    </tr>\n",
       "    <tr>\n",
       "      <th>3508</th>\n",
       "      <td>VIE</td>\n",
       "      <td>KRK</td>\n",
       "      <td>18</td>\n",
       "      <td>2019</td>\n",
       "      <td>1</td>\n",
       "      <td>20</td>\n",
       "      <td>13</td>\n",
       "      <td>25</td>\n",
       "      <td>0</td>\n",
       "      <td>1959</td>\n",
       "      <td>2164</td>\n",
       "      <td>1868</td>\n",
       "    </tr>\n",
       "    <tr>\n",
       "      <th>3509</th>\n",
       "      <td>BCN</td>\n",
       "      <td>KRK</td>\n",
       "      <td>41</td>\n",
       "      <td>2019</td>\n",
       "      <td>1</td>\n",
       "      <td>20</td>\n",
       "      <td>16</td>\n",
       "      <td>15</td>\n",
       "      <td>0</td>\n",
       "      <td>1608</td>\n",
       "      <td>2164</td>\n",
       "      <td>1768</td>\n",
       "    </tr>\n",
       "    <tr>\n",
       "      <th>3510</th>\n",
       "      <td>CRL</td>\n",
       "      <td>KRK</td>\n",
       "      <td>15</td>\n",
       "      <td>2019</td>\n",
       "      <td>1</td>\n",
       "      <td>20</td>\n",
       "      <td>13</td>\n",
       "      <td>25</td>\n",
       "      <td>0</td>\n",
       "      <td>1662</td>\n",
       "      <td>2164</td>\n",
       "      <td>803</td>\n",
       "    </tr>\n",
       "    <tr>\n",
       "      <th>3511</th>\n",
       "      <td>STN</td>\n",
       "      <td>KRK</td>\n",
       "      <td>33</td>\n",
       "      <td>2019</td>\n",
       "      <td>1</td>\n",
       "      <td>20</td>\n",
       "      <td>19</td>\n",
       "      <td>0</td>\n",
       "      <td>0</td>\n",
       "      <td>1912</td>\n",
       "      <td>2164</td>\n",
       "      <td>3362</td>\n",
       "    </tr>\n",
       "  </tbody>\n",
       "</table>\n",
       "</div>"
      ],
      "text/plain": [
       "     From   To  Cost  year  month  day  hour  minute  second  From_edge  \\\n",
       "3507  HEL  KRK    54  2019      1   20    16      10       0       1727   \n",
       "3508  VIE  KRK    18  2019      1   20    13      25       0       1959   \n",
       "3509  BCN  KRK    41  2019      1   20    16      15       0       1608   \n",
       "3510  CRL  KRK    15  2019      1   20    13      25       0       1662   \n",
       "3511  STN  KRK    33  2019      1   20    19       0       0       1912   \n",
       "\n",
       "      To_edge  route_id  \n",
       "3507     2164       676  \n",
       "3508     2164      1868  \n",
       "3509     2164      1768  \n",
       "3510     2164       803  \n",
       "3511     2164      3362  "
      ]
     },
     "execution_count": 26,
     "metadata": {},
     "output_type": "execute_result"
    }
   ],
   "source": [
    "stages[-1].head()"
   ]
  },
  {
   "cell_type": "markdown",
   "metadata": {},
   "source": [
    "Save output as data.dat file"
   ]
  },
  {
   "cell_type": "code",
   "execution_count": 27,
   "metadata": {},
   "outputs": [],
   "source": [
    "with open(\"data.dat\", \"a\") as f:\n",
    "    f.write(\"\"\"\n",
    "data;\n",
    "\n",
    "param V_count := {V_count};\n",
    "param E_count := {E_count};\n",
    "param D_count := {D_count};\n",
    "\n",
    "param : h  s t :=\n",
    " 1      1 {s} {t}\n",
    ";\n",
    "        \"\"\".format(V_count=stages[-1]['To_edge'].iloc[0], \n",
    "                   E_count=stages[-1].tail(1).index.values[0], \n",
    "                   D_count=1, \n",
    "                   s=0, \n",
    "                   t=stages[-1]['To_edge'].iloc[0]))"
   ]
  },
  {
   "cell_type": "code",
   "execution_count": 28,
   "metadata": {},
   "outputs": [],
   "source": [
    "with open(\"data.dat\", \"a\") as f:\n",
    "     f.write(\"\"\"\n",
    "param : A :=\n",
    "\"\"\")"
   ]
  },
  {
   "cell_type": "code",
   "execution_count": 29,
   "metadata": {},
   "outputs": [],
   "source": [
    "with open(\"data.dat\", \"a\") as f:\n",
    "    for stage in stages:\n",
    "        for val, index in zip(stage.values, stage.index.values):\n",
    "            f.write(\"\"\"\n",
    " {link_number},{to_edge_number}    1\n",
    "\"\"\".format(link_number=index, \n",
    "           to_edge_number=val[-3]))"
   ]
  },
  {
   "cell_type": "code",
   "execution_count": 30,
   "metadata": {},
   "outputs": [],
   "source": [
    "with open(\"data.dat\", \"a\") as f:\n",
    "     f.write(\"\"\"\n",
    ";\n",
    "\"\"\")"
   ]
  },
  {
   "cell_type": "code",
   "execution_count": 31,
   "metadata": {},
   "outputs": [],
   "source": [
    "with open(\"data.dat\", \"a\") as f:\n",
    "     f.write(\"\"\"\n",
    "param : B :=\n",
    "\"\"\")"
   ]
  },
  {
   "cell_type": "code",
   "execution_count": 32,
   "metadata": {},
   "outputs": [],
   "source": [
    "with open(\"data.dat\", \"a\") as f:\n",
    "    for stage in stages:\n",
    "        for val, index in zip(stage.values, stage.index.values):\n",
    "            f.write(\"\"\"\n",
    " {link_number},{to_edge_number}    1\n",
    "\"\"\".format(link_number=index, \n",
    "           to_edge_number=val[-2]))"
   ]
  },
  {
   "cell_type": "code",
   "execution_count": 33,
   "metadata": {},
   "outputs": [],
   "source": [
    "with open(\"data.dat\", \"a\") as f:\n",
    "     f.write(\"\"\"\n",
    ";\n",
    "\"\"\")"
   ]
  },
  {
   "cell_type": "code",
   "execution_count": 34,
   "metadata": {},
   "outputs": [],
   "source": [
    "with open(\"data.dat\", \"a\") as f:\n",
    "     f.write(\"\"\"\n",
    "param : KSI :=\n",
    "\"\"\")"
   ]
  },
  {
   "cell_type": "code",
   "execution_count": 35,
   "metadata": {},
   "outputs": [],
   "source": [
    "with open(\"data.dat\", \"a\") as f:\n",
    "    for stage in stages:\n",
    "        for val, index in zip(stage.values, stage.index.values):\n",
    "            f.write(\"\"\"\n",
    " {link_number}    {cost}\n",
    "\"\"\".format(link_number=index, \n",
    "           cost=val[2]))"
   ]
  },
  {
   "cell_type": "code",
   "execution_count": 36,
   "metadata": {},
   "outputs": [],
   "source": [
    "with open(\"data.dat\", \"a\") as f:\n",
    "     f.write(\"\"\"\n",
    ";\n",
    "\"\"\")"
   ]
  },
  {
   "cell_type": "code",
   "execution_count": 37,
   "metadata": {},
   "outputs": [],
   "source": [
    "with open(\"data.dat\", \"a\") as f:\n",
    "     f.write(\"\"\"\n",
    "end;\n",
    "\"\"\")"
   ]
  },
  {
   "cell_type": "code",
   "execution_count": 38,
   "metadata": {
    "scrolled": false
   },
   "outputs": [
    {
     "data": {
      "text/plain": [
       "From          KRK\n",
       "To            SXF\n",
       "Cost           11\n",
       "year         2019\n",
       "month           1\n",
       "day            10\n",
       "hour            9\n",
       "minute         40\n",
       "second          0\n",
       "From_edge       0\n",
       "To_edge       338\n",
       "route_id     3335\n",
       "Name: 2, dtype: object"
      ]
     },
     "execution_count": 38,
     "metadata": {},
     "output_type": "execute_result"
    }
   ],
   "source": [
    "stages[0].loc[2]"
   ]
  },
  {
   "cell_type": "code",
   "execution_count": 39,
   "metadata": {
    "scrolled": true
   },
   "outputs": [
    {
     "data": {
      "text/plain": [
       "From          SXF\n",
       "To            VLC\n",
       "Cost           15\n",
       "year         2019\n",
       "month           1\n",
       "day            12\n",
       "hour           17\n",
       "minute         15\n",
       "second          0\n",
       "From_edge     338\n",
       "To_edge       772\n",
       "route_id     2138\n",
       "Name: 537, dtype: object"
      ]
     },
     "execution_count": 39,
     "metadata": {},
     "output_type": "execute_result"
    }
   ],
   "source": [
    "stages[1].loc[537]"
   ]
  },
  {
   "cell_type": "code",
   "execution_count": 40,
   "metadata": {
    "scrolled": true
   },
   "outputs": [
    {
     "data": {
      "text/plain": [
       "From          VLC\n",
       "To            FRA\n",
       "Cost           12\n",
       "year         2019\n",
       "month           1\n",
       "day            14\n",
       "hour           17\n",
       "minute         35\n",
       "second          0\n",
       "From_edge     772\n",
       "To_edge       912\n",
       "route_id     1752\n",
       "Name: 1996, dtype: object"
      ]
     },
     "execution_count": 40,
     "metadata": {},
     "output_type": "execute_result"
    }
   ],
   "source": [
    "stages[2].loc[1996]"
   ]
  },
  {
   "cell_type": "code",
   "execution_count": 41,
   "metadata": {
    "scrolled": true
   },
   "outputs": [
    {
     "data": {
      "text/plain": [
       "From          FRA\n",
       "To            STN\n",
       "Cost           15\n",
       "year         2019\n",
       "month           1\n",
       "day            16\n",
       "hour           19\n",
       "minute          0\n",
       "second          0\n",
       "From_edge     912\n",
       "To_edge      1515\n",
       "route_id     4011\n",
       "Name: 2779, dtype: object"
      ]
     },
     "execution_count": 41,
     "metadata": {},
     "output_type": "execute_result"
    }
   ],
   "source": [
    "stages[3].loc[2779]"
   ]
  },
  {
   "cell_type": "code",
   "execution_count": 42,
   "metadata": {},
   "outputs": [
    {
     "data": {
      "text/plain": [
       "From          STN\n",
       "To            BGY\n",
       "Cost           20\n",
       "year         2019\n",
       "month           1\n",
       "day            18\n",
       "hour           14\n",
       "minute         40\n",
       "second          0\n",
       "From_edge    1515\n",
       "To_edge      1615\n",
       "route_id     1365\n",
       "Name: 3301, dtype: object"
      ]
     },
     "execution_count": 42,
     "metadata": {},
     "output_type": "execute_result"
    }
   ],
   "source": [
    "stages[4].loc[3301]"
   ]
  },
  {
   "cell_type": "code",
   "execution_count": 43,
   "metadata": {
    "scrolled": true
   },
   "outputs": [
    {
     "data": {
      "text/plain": [
       "From          BGY\n",
       "To            KRK\n",
       "Cost           20\n",
       "year         2019\n",
       "month           1\n",
       "day            20\n",
       "hour           15\n",
       "minute         35\n",
       "second          0\n",
       "From_edge    1615\n",
       "To_edge      2164\n",
       "route_id     2465\n",
       "Name: 3514, dtype: object"
      ]
     },
     "execution_count": 43,
     "metadata": {},
     "output_type": "execute_result"
    }
   ],
   "source": [
    "stages[5].loc[3514]"
   ]
  },
  {
   "cell_type": "code",
   "execution_count": null,
   "metadata": {},
   "outputs": [],
   "source": []
  }
 ],
 "metadata": {
  "kernelspec": {
   "display_name": "Python 3",
   "language": "python",
   "name": "python3"
  },
  "language_info": {
   "codemirror_mode": {
    "name": "ipython",
    "version": 3
   },
   "file_extension": ".py",
   "mimetype": "text/x-python",
   "name": "python",
   "nbconvert_exporter": "python",
   "pygments_lexer": "ipython3",
   "version": "3.5.5"
  }
 },
 "nbformat": 4,
 "nbformat_minor": 2
}
